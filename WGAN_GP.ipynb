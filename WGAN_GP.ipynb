{
  "nbformat": 4,
  "nbformat_minor": 0,
  "metadata": {
    "colab": {
      "provenance": [],
      "authorship_tag": "ABX9TyOD+bL8Z11KPwLbMChm8lG8",
      "include_colab_link": true
    },
    "kernelspec": {
      "name": "python3",
      "display_name": "Python 3"
    },
    "language_info": {
      "name": "python"
    },
    "accelerator": "GPU",
    "gpuClass": "standard"
  },
  "cells": [
    {
      "cell_type": "markdown",
      "metadata": {
        "id": "view-in-github",
        "colab_type": "text"
      },
      "source": [
        "<a href=\"https://colab.research.google.com/github/mafaldasalomao/DCGAN_MNIST_TENSORFLOW/blob/main/WGAN_GP.ipynb\" target=\"_parent\"><img src=\"https://colab.research.google.com/assets/colab-badge.svg\" alt=\"Open In Colab\"/></a>"
      ]
    },
    {
      "cell_type": "code",
      "execution_count": 1,
      "metadata": {
        "colab": {
          "base_uri": "https://localhost:8080/",
          "height": 35
        },
        "id": "QpltBYPOZZSs",
        "outputId": "ded1085b-eb56-460c-85be-1b37d70602d3"
      },
      "outputs": [
        {
          "output_type": "execute_result",
          "data": {
            "text/plain": [
              "'2.9.2'"
            ],
            "application/vnd.google.colaboratory.intrinsic+json": {
              "type": "string"
            }
          },
          "metadata": {},
          "execution_count": 1
        }
      ],
      "source": [
        "import matplotlib.pyplot as plt\n",
        "import numpy as np\n",
        "import tensorflow as tf\n",
        "import os\n",
        "import time\n",
        "from IPython import display\n",
        "from tensorflow import keras\n",
        "from tensorflow.keras import layers\n",
        "tf.__version__"
      ]
    },
    {
      "cell_type": "code",
      "source": [
        "(X_treinamento, y_treinamento), (_, _) = tf.keras.datasets.mnist.load_data()"
      ],
      "metadata": {
        "id": "JY05i7YDZbjP",
        "colab": {
          "base_uri": "https://localhost:8080/"
        },
        "outputId": "8eb17456-242a-47b4-9a99-f9bf35acc202"
      },
      "execution_count": 2,
      "outputs": [
        {
          "output_type": "stream",
          "name": "stdout",
          "text": [
            "Downloading data from https://storage.googleapis.com/tensorflow/tf-keras-datasets/mnist.npz\n",
            "11490434/11490434 [==============================] - 0s 0us/step\n"
          ]
        }
      ]
    },
    {
      "cell_type": "code",
      "source": [
        "X_treinamento.shape, y_treinamento.shape"
      ],
      "metadata": {
        "id": "YAwOvUEcZdXC",
        "colab": {
          "base_uri": "https://localhost:8080/"
        },
        "outputId": "558c689a-d63d-452e-bd0d-766cee1d66aa"
      },
      "execution_count": 3,
      "outputs": [
        {
          "output_type": "execute_result",
          "data": {
            "text/plain": [
              "((60000, 28, 28), (60000,))"
            ]
          },
          "metadata": {},
          "execution_count": 3
        }
      ]
    },
    {
      "cell_type": "code",
      "source": [
        "X_treinamento = X_treinamento.reshape(X_treinamento.shape[0], 28, 28, 1).astype('float32')"
      ],
      "metadata": {
        "id": "PUh_3CfkZnDo"
      },
      "execution_count": 4,
      "outputs": []
    },
    {
      "cell_type": "code",
      "source": [
        "X_treinamento.shape"
      ],
      "metadata": {
        "id": "Z25rY12VZo3j",
        "colab": {
          "base_uri": "https://localhost:8080/"
        },
        "outputId": "dc0cd3a1-d832-4d91-c9b7-0b6198400614"
      },
      "execution_count": 5,
      "outputs": [
        {
          "output_type": "execute_result",
          "data": {
            "text/plain": [
              "(60000, 28, 28, 1)"
            ]
          },
          "metadata": {},
          "execution_count": 5
        }
      ]
    },
    {
      "cell_type": "code",
      "source": [
        "X_treinamento = (X_treinamento - 127.5) / 127.5 "
      ],
      "metadata": {
        "id": "w9gPOay7Zujx"
      },
      "execution_count": 6,
      "outputs": []
    },
    {
      "cell_type": "code",
      "source": [
        "buffer_size = y_treinamento.shape[0] #60000\n",
        "batch_size = 256\n",
        "\n",
        "X_treinamento = tf.data.Dataset.from_tensor_slices(X_treinamento).shuffle(buffer_size).batch(batch_size)"
      ],
      "metadata": {
        "id": "GqGRbY2JZvxt"
      },
      "execution_count": 7,
      "outputs": []
    },
    {
      "cell_type": "code",
      "source": [
        "def cria_gerador():\n",
        "  network = tf.keras.Sequential()\n",
        "\n",
        "  network.add(layers.Dense(7*7*256, use_bias=False, input_shape=(100,)))\n",
        "  network.add(layers.BatchNormalization())\n",
        "  network.add(layers.LeakyReLU())\n",
        "\n",
        "  network.add(layers.Reshape((7,7,256)))\n",
        "\n",
        "  # 7x7x128\n",
        "  network.add(layers.Conv2DTranspose(128, (5,5), padding='same', use_bias=False))\n",
        "  network.add(layers.BatchNormalization())\n",
        "  network.add(layers.LeakyReLU())\n",
        "\n",
        "  # 14x14x64\n",
        "  network.add(layers.Conv2DTranspose(64, (5,5), padding='same', use_bias=False, strides=(2,2)))\n",
        "  network.add(layers.BatchNormalization())\n",
        "  network.add(layers.LeakyReLU())\n",
        "\n",
        "  # 28x28x1\n",
        "  network.add(layers.Conv2DTranspose(1, (5,5), padding='same', use_bias=False, strides=(2,2), activation='tanh'))\n",
        "\n",
        "  network.summary()\n",
        "\n",
        "  return network"
      ],
      "metadata": {
        "id": "RhfuInMgxNGa"
      },
      "execution_count": 8,
      "outputs": []
    },
    {
      "cell_type": "code",
      "source": [
        "gerador = cria_gerador()"
      ],
      "metadata": {
        "colab": {
          "base_uri": "https://localhost:8080/"
        },
        "id": "gtT1Hi1mxZix",
        "outputId": "98eed8cc-d263-4370-e3a7-a5a882c8b1db"
      },
      "execution_count": 9,
      "outputs": [
        {
          "output_type": "stream",
          "name": "stdout",
          "text": [
            "Model: \"sequential\"\n",
            "_________________________________________________________________\n",
            " Layer (type)                Output Shape              Param #   \n",
            "=================================================================\n",
            " dense (Dense)               (None, 12544)             1254400   \n",
            "                                                                 \n",
            " batch_normalization (BatchN  (None, 12544)            50176     \n",
            " ormalization)                                                   \n",
            "                                                                 \n",
            " leaky_re_lu (LeakyReLU)     (None, 12544)             0         \n",
            "                                                                 \n",
            " reshape (Reshape)           (None, 7, 7, 256)         0         \n",
            "                                                                 \n",
            " conv2d_transpose (Conv2DTra  (None, 7, 7, 128)        819200    \n",
            " nspose)                                                         \n",
            "                                                                 \n",
            " batch_normalization_1 (Batc  (None, 7, 7, 128)        512       \n",
            " hNormalization)                                                 \n",
            "                                                                 \n",
            " leaky_re_lu_1 (LeakyReLU)   (None, 7, 7, 128)         0         \n",
            "                                                                 \n",
            " conv2d_transpose_1 (Conv2DT  (None, 14, 14, 64)       204800    \n",
            " ranspose)                                                       \n",
            "                                                                 \n",
            " batch_normalization_2 (Batc  (None, 14, 14, 64)       256       \n",
            " hNormalization)                                                 \n",
            "                                                                 \n",
            " leaky_re_lu_2 (LeakyReLU)   (None, 14, 14, 64)        0         \n",
            "                                                                 \n",
            " conv2d_transpose_2 (Conv2DT  (None, 28, 28, 1)        1600      \n",
            " ranspose)                                                       \n",
            "                                                                 \n",
            "=================================================================\n",
            "Total params: 2,330,944\n",
            "Trainable params: 2,305,472\n",
            "Non-trainable params: 25,472\n",
            "_________________________________________________________________\n"
          ]
        }
      ]
    },
    {
      "cell_type": "code",
      "source": [
        "gerador.input"
      ],
      "metadata": {
        "colab": {
          "base_uri": "https://localhost:8080/"
        },
        "id": "TQyj0Kzixcaf",
        "outputId": "a780b23a-2b99-4153-e061-ab64c521c44e"
      },
      "execution_count": 10,
      "outputs": [
        {
          "output_type": "execute_result",
          "data": {
            "text/plain": [
              "<KerasTensor: shape=(None, 100) dtype=float32 (created by layer 'dense_input')>"
            ]
          },
          "metadata": {},
          "execution_count": 10
        }
      ]
    },
    {
      "cell_type": "code",
      "source": [
        "ruido = tf.random.normal([1, 100])\n",
        "print(ruido)"
      ],
      "metadata": {
        "colab": {
          "base_uri": "https://localhost:8080/"
        },
        "id": "Az3W2h5lxdhp",
        "outputId": "6a13466f-365f-4801-86d7-d67337dfc1db"
      },
      "execution_count": 11,
      "outputs": [
        {
          "output_type": "stream",
          "name": "stdout",
          "text": [
            "tf.Tensor(\n",
            "[[ 0.36371508  0.7726043  -0.57158846 -1.936252   -0.96492285 -0.16277894\n",
            "  -1.2948645   1.241924   -1.8284353   0.45915896  1.0411582  -1.0678674\n",
            "   0.19654045  0.711649   -0.4802368   0.17762811  0.97749066 -0.4346696\n",
            "   0.8200661  -0.01663531 -0.18361142 -0.16843575  0.77384233  0.7811778\n",
            "   1.4750248   0.21440664 -0.3202957  -1.0475799  -0.734285   -0.61272585\n",
            "  -0.62640876 -0.66398716 -1.9712455  -0.65121347  0.4965487   0.37396494\n",
            "   0.07513995 -0.17521943 -1.6059936   0.2566769   0.26467744  1.2908293\n",
            "  -1.3880403  -1.0650915  -0.27267545 -0.3477996  -1.0139328   0.44734287\n",
            "  -0.95542634 -1.7799598   1.4058275   1.0921543  -0.41679844 -0.87331426\n",
            "  -0.08928747  0.1979796  -0.01494051  0.8453972  -0.6864098  -2.3021326\n",
            "  -0.04727569 -0.33241117 -0.55504    -0.25464416 -1.8024435   0.45355478\n",
            "  -1.8809769   2.8745859   2.2240067  -0.7605303  -2.3033123   1.4404445\n",
            "  -0.11369891 -0.20958635 -0.88669235  0.3556284   1.7972772   1.0317622\n",
            "   0.18543164 -0.37369412  0.29668495 -1.709132    0.09066977 -0.24333234\n",
            "  -1.3836212   0.31466517  0.36971894 -0.5691042  -0.3570272  -0.29784194\n",
            "   0.90995604 -1.1713208   0.73397994  0.11323836 -0.5594465  -0.27877772\n",
            "  -0.31523445  0.5727939   0.20826219  1.5613596 ]], shape=(1, 100), dtype=float32)\n"
          ]
        }
      ]
    },
    {
      "cell_type": "code",
      "source": [
        "imagem_gerada = gerador(ruido, training = False)\n",
        "print(imagem_gerada.shape)\n",
        "\n",
        "plt.imshow(imagem_gerada[0, :, :, 0], cmap='gray')"
      ],
      "metadata": {
        "colab": {
          "base_uri": "https://localhost:8080/",
          "height": 300
        },
        "id": "eibqov3HxfNB",
        "outputId": "cc0d1832-46ba-42ec-c72b-3c31e2cfd11a"
      },
      "execution_count": 12,
      "outputs": [
        {
          "output_type": "stream",
          "name": "stdout",
          "text": [
            "(1, 28, 28, 1)\n"
          ]
        },
        {
          "output_type": "execute_result",
          "data": {
            "text/plain": [
              "<matplotlib.image.AxesImage at 0x7fbf001fe4d0>"
            ]
          },
          "metadata": {},
          "execution_count": 12
        },
        {
          "output_type": "display_data",
          "data": {
            "text/plain": [
              "<Figure size 432x288 with 1 Axes>"
            ],
            "image/png": "[encoded data removed]"
          },
          "metadata": {
            "needs_background": "light"
          }
        }
      ]
    },
    {
      "cell_type": "code",
      "source": [
        "def cria_discriminador():\n",
        "  network = tf.keras.Sequential()\n",
        "\n",
        "  # 14x14x64\n",
        "  network.add(layers.Conv2D(64, (5,5), strides=(2,2), padding='same', input_shape=[28,28,1]))\n",
        "  network.add(layers.LeakyReLU())\n",
        "  network.add(layers.Dropout(0.3))\n",
        "\n",
        "  # 7x7x128\n",
        "  network.add(layers.Conv2D(128, (5,5), strides=(2,2), padding='same'))\n",
        "  network.add(layers.LeakyReLU())\n",
        "  network.add(layers.Dropout(0.3))\n",
        "\n",
        "  network.add(layers.Flatten())\n",
        "  network.add(layers.Dense(1))\n",
        "\n",
        "  network.summary()\n",
        "  return network"
      ],
      "metadata": {
        "id": "xSpsYs-UxgS4"
      },
      "execution_count": 13,
      "outputs": []
    },
    {
      "cell_type": "code",
      "source": [
        "discriminador = cria_discriminador()"
      ],
      "metadata": {
        "colab": {
          "base_uri": "https://localhost:8080/"
        },
        "id": "vnhZUTDHxhkd",
        "outputId": "0e3d84e4-687e-4ed1-a59c-42e9f6c78c6a"
      },
      "execution_count": 14,
      "outputs": [
        {
          "output_type": "stream",
          "name": "stdout",
          "text": [
            "Model: \"sequential_1\"\n",
            "_________________________________________________________________\n",
            " Layer (type)                Output Shape              Param #   \n",
            "=================================================================\n",
            " conv2d (Conv2D)             (None, 14, 14, 64)        1664      \n",
            "                                                                 \n",
            " leaky_re_lu_3 (LeakyReLU)   (None, 14, 14, 64)        0         \n",
            "                                                                 \n",
            " dropout (Dropout)           (None, 14, 14, 64)        0         \n",
            "                                                                 \n",
            " conv2d_1 (Conv2D)           (None, 7, 7, 128)         204928    \n",
            "                                                                 \n",
            " leaky_re_lu_4 (LeakyReLU)   (None, 7, 7, 128)         0         \n",
            "                                                                 \n",
            " dropout_1 (Dropout)         (None, 7, 7, 128)         0         \n",
            "                                                                 \n",
            " flatten (Flatten)           (None, 6272)              0         \n",
            "                                                                 \n",
            " dense_1 (Dense)             (None, 1)                 6273      \n",
            "                                                                 \n",
            "=================================================================\n",
            "Total params: 212,865\n",
            "Trainable params: 212,865\n",
            "Non-trainable params: 0\n",
            "_________________________________________________________________\n"
          ]
        }
      ]
    },
    {
      "cell_type": "code",
      "source": [
        "discriminador.input"
      ],
      "metadata": {
        "colab": {
          "base_uri": "https://localhost:8080/"
        },
        "id": "v5E3qO4Rxi8b",
        "outputId": "b73c6d2a-ecf6-4b63-d0c5-9d4215434940"
      },
      "execution_count": 15,
      "outputs": [
        {
          "output_type": "execute_result",
          "data": {
            "text/plain": [
              "<KerasTensor: shape=(None, 28, 28, 1) dtype=float32 (created by layer 'conv2d_input')>"
            ]
          },
          "metadata": {},
          "execution_count": 15
        }
      ]
    },
    {
      "cell_type": "code",
      "source": [
        "resultado = discriminador(imagem_gerada)\n",
        "print(resultado)"
      ],
      "metadata": {
        "colab": {
          "base_uri": "https://localhost:8080/"
        },
        "id": "utA-_n1LxkQK",
        "outputId": "a6c73d77-3d0b-4422-9fd0-f502843bf020"
      },
      "execution_count": 16,
      "outputs": [
        {
          "output_type": "stream",
          "name": "stdout",
          "text": [
            "tf.Tensor([[-0.00114205]], shape=(1, 1), dtype=float32)\n"
          ]
        }
      ]
    },
    {
      "cell_type": "markdown",
      "source": [
        "\n",
        "## Funções de perda **Wasserstein Loss**\n",
        "\n",
        "A perda (*loss*) é a diferença entre o valor esperado da saída do discriminador para imagens autênticas e o valor esperado do discriminador para imagens falsas que foram geradas. \n",
        "\n",
        "* O objetivo do discriminador é maximizar essa diferença, enquanto que o objetivo do gerador é minimizar. \n",
        "\n",
        "Então, podemos criar o loss/perda para podermos monitorar os estágios de treinamento. "
      ],
      "metadata": {
        "id": "yX34VoW4xmnO"
      }
    },
    {
      "cell_type": "code",
      "source": [
        "-1 * tf.math.reduce_mean([0.2, 0.9, 0.95])"
      ],
      "metadata": {
        "colab": {
          "base_uri": "https://localhost:8080/"
        },
        "id": "nVqImDnpxoJP",
        "outputId": "c5a5b025-238d-496b-d6a4-1f4912b311f5"
      },
      "execution_count": 19,
      "outputs": [
        {
          "output_type": "execute_result",
          "data": {
            "text/plain": [
              "<tf.Tensor: shape=(), dtype=float32, numpy=0.12843259>"
            ]
          },
          "metadata": {},
          "execution_count": 19
        }
      ]
    },
    {
      "cell_type": "code",
      "source": [
        "def loss_gerador(fake_saida):\n",
        "  g_loss = -1 * tf.math.reduce_mean(fake_saida)\n",
        "  return g_loss"
      ],
      "metadata": {
        "id": "QiHD6UKSx6jJ"
      },
      "execution_count": 18,
      "outputs": []
    },
    {
      "cell_type": "code",
      "source": [
        "def loss_discriminador(real_saida, fake_saida, gradient_penalty):\n",
        "  c_lambda = 10\n",
        "  d_loss = tf.math.reduce_mean(fake_saida) - tf.math.reduce_mean(real_saida) + c_lambda * gradient_penalty\n",
        "  return d_loss"
      ],
      "metadata": {
        "id": "cpS12PIgyfmj"
      },
      "execution_count": 20,
      "outputs": []
    },
    {
      "cell_type": "markdown",
      "source": [
        "## **Gradient Penalty**\n",
        "\n",
        "- Parâmetros beta: https://stats.stackexchange.com/questions/265400/deep-learning-how-does-beta-1-and-beta-2-in-the-adam-optimizer-affect-its-lear#:~:text=The%20hyper%2Dparameters%20%CE%B21,each%20training%20step%20(batch).\n",
        "\n",
        " Para usar a perda de Wasserstein, nosso discriminador precisa ser **1-L** [(1-Lipschitz) contínuo](https://www.coursera.org/lecture/build-basic-generative-adversarial-networks-gans/1-lipschitz-continuity-enforcement-GMPCt), ou seja, a norma do gradiente deve ser no máximo 1 em cada ponto.\n",
        " \n",
        "Para impor a continuidade de 1-L usaremos o conceito de **Gradient Penalty**.\n",
        "\n",
        "Essa variação foi apelidada de **WGAN-GP** (devido ao uso do **G**radient **P**enalty)\n",
        "\n",
        "(Mais sobre Gradient Penalty [nesse artigo](https://towardsdatascience.com/demystified-wasserstein-gan-with-gradient-penalty-ba5e9b905ead))"
      ],
      "metadata": {
        "id": "k9JHAyQjzIqi"
      }
    },
    {
      "cell_type": "markdown",
      "source": [
        "Para calcular o gradient penalty faremos o seguinte:\n",
        "1. Calcular uma imagem interpolada da imagem real e fake (`(real_image * epsilon + fake_image * (1 — epsilon))`)\n",
        "2. Calcular o gradiente da saída do discriminador em relação à imagem interpolada. Depois disso, calcular a norma do gradiente.\n",
        "3. Por fim, a penalidade é calculada como uma média do quadrado de (norma - 1), pois queremos que a norma seja próxima de um.\n",
        "\n",
        "Para trabalhar com algumas das operações envolvendo gradiente usamos o  [GradientTape()](https://www.tensorflow.org/api_docs/python/tf/GradientTape)"
      ],
      "metadata": {
        "id": "lri4ySzFzKwZ"
      }
    },
    {
      "cell_type": "code",
      "source": [
        "def gradient_penalty(real, fake, epsilon):\n",
        "  imgs_interpoladas = real * epsilon + fake * (1- epsilon)\n",
        "  with tf.GradientTape() as tape:\n",
        "    tape.watch(imgs_interpoladas)\n",
        "    scores = discriminador(imgs_interpoladas)\n",
        "  gradient = tape.gradient(scores, imgs_interpoladas)[0]\n",
        "  gradient_norm = tf.norm(gradient)\n",
        "  gp = tf.math.reduce_mean((gradient_norm-1)**2)\n",
        "  return gp"
      ],
      "metadata": {
        "id": "5b1CEIp0zJGo"
      },
      "execution_count": 30,
      "outputs": []
    },
    {
      "cell_type": "code",
      "source": [
        "gerador_optimizer = tf.keras.optimizers.Adam(learning_rate=0.0002, beta_1=0.5, beta_2=0.9)\n",
        "discriminador_optimizer = tf.keras.optimizers.Adam(learning_rate=0.0002, beta_1=0.5, beta_2=0.9)"
      ],
      "metadata": {
        "id": "GBSQ6bjl1QY6"
      },
      "execution_count": 22,
      "outputs": []
    },
    {
      "cell_type": "code",
      "source": [
        "checkpoint_dir = './training_checkpoints'\n",
        "checkpoint_prefixo = os.path.join(checkpoint_dir, \"checkpoints\")\n",
        "checkpoint = tf.train.Checkpoint(generator_optimizer = gerador_optimizer,\n",
        "                                 discrimanator_optimizer = discriminador_optimizer,\n",
        "                                 generator=gerador,\n",
        "                                 discriminator=discriminador)"
      ],
      "metadata": {
        "id": "YuwalV8m1qsx"
      },
      "execution_count": 23,
      "outputs": []
    },
    {
      "cell_type": "code",
      "source": [
        "epochs = 30\n",
        "noise_dim = 100\n",
        "num_amostras = 16\n",
        "seed = tf.random.normal([num_amostras, noise_dim])"
      ],
      "metadata": {
        "id": "aaAt7KwK1UsP"
      },
      "execution_count": 24,
      "outputs": []
    },
    {
      "cell_type": "code",
      "source": [
        "seed"
      ],
      "metadata": {
        "colab": {
          "base_uri": "https://localhost:8080/"
        },
        "id": "DdlivoVU1xzn",
        "outputId": "9b123b42-5f11-4cbc-e5d8-90d070cb8a25"
      },
      "execution_count": 25,
      "outputs": [
        {
          "output_type": "execute_result",
          "data": {
            "text/plain": [
              "<tf.Tensor: shape=(16, 100), dtype=float32, numpy=\n",
              "array([[-0.41720957,  0.06179711,  0.2883066 , ...,  1.2980283 ,\n",
              "         0.38395756,  1.6853241 ],\n",
              "       [ 0.15157852,  0.7760437 ,  0.33548477, ..., -0.80223024,\n",
              "        -1.5477949 ,  0.8554114 ],\n",
              "       [-0.15755336,  0.15367293, -0.78103846, ...,  0.28871486,\n",
              "         0.73995274, -1.318616  ],\n",
              "       ...,\n",
              "       [ 0.11798235, -1.5549891 ,  0.08489182, ...,  1.267821  ,\n",
              "         0.08496323, -1.2813225 ],\n",
              "       [ 0.29129848, -0.9997965 , -1.0416497 , ..., -1.4605801 ,\n",
              "         0.64125824,  1.4304931 ],\n",
              "       [-0.5384848 ,  0.45972237,  0.9452507 , ..., -1.2142794 ,\n",
              "        -0.61546844, -1.0343683 ]], dtype=float32)>"
            ]
          },
          "metadata": {},
          "execution_count": 25
        }
      ]
    },
    {
      "cell_type": "code",
      "source": [
        "def etapa_treinamento(imgs):\n",
        "  noise = tf.random.normal([batch_size, noise_dim])\n",
        "  discriminador_etapas_extras = 3\n",
        "  for i in range(discriminador_etapas_extras):\n",
        "    with tf.GradientTape() as d_tape:\n",
        "      imgs_geradas = gerador(noise, training=True)\n",
        "      real_saida = discriminador(imgs, training=True)\n",
        "      fake_saida = discriminador(imgs_geradas, training=True)\n",
        "      epsilon = tf.random.normal([batch_size, 1, 1, 1], 0.0, 1.0)\n",
        "      gp = gradient_penalty(imgs, imgs_geradas, epsilon)\n",
        "\n",
        "      d_loss = loss_discriminador(real_saida, fake_saida, gp)\n",
        "\n",
        "    discriminador_gradientes = d_tape.gradient(d_loss, discriminador.trainable_variables)\n",
        "    discriminador_optimizer.apply_gradients(zip(discriminador_gradientes, discriminador.trainable_variables))\n",
        "  with tf.GradientTape() as g_tape:\n",
        "    imgs_geradas = gerador(noise, training=True)\n",
        "    fake_saida = discriminador(imgs_geradas, training=True)\n",
        "    g_loss = loss_gerador(fake_saida)\n",
        "  gerador_gradients = g_tape.gradient(g_loss, gerador.trainable_variables)\n",
        "  gerador_optimizer.apply_gradients(zip(gerador_gradients, gerador.trainable_variables))"
      ],
      "metadata": {
        "id": "SaDkaGcJ1zFa"
      },
      "execution_count": 32,
      "outputs": []
    },
    {
      "cell_type": "code",
      "source": [
        "#Sobre logits: https://deepai.org/machine-learning-glossary-and-terms/logit"
      ],
      "metadata": {
        "id": "7WFPc7bW4NNq"
      },
      "execution_count": null,
      "outputs": []
    },
    {
      "cell_type": "code",
      "source": [
        "def gerar_e_salvar_imgs(model, epoch, test_input):\n",
        "  preds = model(test_input, training=False)\n",
        "  fig = plt.figure(figsize=(4, 4))\n",
        "  for i in range(preds.shape[0]):\n",
        "    plt.subplot(4, 4, i+1)\n",
        "    plt.imshow(preds[i, :, :, 0]*127.5 + 127.5, cmap='gray')\n",
        "  plt.savefig('img_epoch_{:04d}.png'.format(epoch))\n",
        "  plt.show()"
      ],
      "metadata": {
        "id": "4emf0FVr5E_s"
      },
      "execution_count": 27,
      "outputs": []
    },
    {
      "cell_type": "code",
      "source": [
        "from tensorflow.python.ops.resource_variable_ops import eager_safe_variable_handle\n",
        "def treinar(dataset, epochs):\n",
        "  for epoch in range(epochs):\n",
        "    inicio = time.time()\n",
        "    for img_batch in dataset:\n",
        "      if len(img_batch)==batch_size:\n",
        "        etapa_treinamento(img_batch)\n",
        "    display.clear_output(wait = True)\n",
        "    gerar_e_salvar_imgs(gerador, epoch+1, seed)\n",
        "    if (epoch + 1) % 10 == 0:\n",
        "      checkpoint.save(file_prefix = checkpoint_prefixo)\n",
        "      print('Tempo para processsar época {} foi de {} segundos'.format(epoch +1, time.time() - inicio))\n",
        "  \n",
        "  display.clear_output(wait = True)\n",
        "  gerar_e_salvar_imgs(gerador, epochs, seed)\n",
        "  gerador.save('gerador.h5')\n",
        "  "
      ],
      "metadata": {
        "id": "eIancVLJ4NdN"
      },
      "execution_count": 28,
      "outputs": []
    },
    {
      "cell_type": "code",
      "source": [
        "treinar(X_treinamento, epochs)"
      ],
      "metadata": {
        "colab": {
          "base_uri": "https://localhost:8080/",
          "height": 305
        },
        "id": "wFZxn3_i6dA3",
        "outputId": "0d206b7b-4459-4acd-c1b6-68a4dd8e098b"
      },
      "execution_count": 33,
      "outputs": [
        {
          "output_type": "display_data",
          "data": {
            "text/plain": [
              "<Figure size 288x288 with 16 Axes>"
            ],
            "image/png": "[encoded data removed]"
          },
          "metadata": {
            "needs_background": "light"
          }
        },
        {
          "output_type": "stream",
          "name": "stderr",
          "text": [
            "WARNING:tensorflow:Compiled the loaded model, but the compiled metrics have yet to be built. `model.compile_metrics` will be empty until you train or evaluate the model.\n"
          ]
        }
      ]
    },
    {
      "cell_type": "code",
      "source": [
        "checkpoint.restore(tf.train.latest_checkpoint(checkpoint_dir))"
      ],
      "metadata": {
        "id": "SlLnyMNh635B"
      },
      "execution_count": null,
      "outputs": []
    },
    {
      "cell_type": "code",
      "source": [
        "seed_input = tf.random.normal([num_amostras, noise_dim])\n",
        "preds = gerador(seed_input, training = False)\n",
        "fig = plt.figure(figsize = (4,4))\n",
        "for i in range(preds.shape[0]):\n",
        "  plt.subplot(4,4,i+1)\n",
        "  plt.imshow(preds[i, :, :, 0] * 127.5 + 127.5, cmap = 'gray')\n",
        "  plt.axis('off')"
      ],
      "metadata": {
        "id": "hYyRGjGi653e"
      },
      "execution_count": null,
      "outputs": []
    },
    {
      "cell_type": "markdown",
      "source": [
        "> Mais implementações:\n",
        "\n",
        "* https://github.com/robbiebarrat/art-DCGAN (baseado em DCGAN)\n",
        "* https://github.com/tdrussell/IllustrationGAN (baseado em DCGAN)\n",
        "* https://github.com/viuts/wgan-animefaces (baseado em WGAN)"
      ],
      "metadata": {
        "id": "9pBscZUM68nz"
      }
    }
  ]
}