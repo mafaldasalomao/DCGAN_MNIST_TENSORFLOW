{
  "nbformat": 4,
  "nbformat_minor": 0,
  "metadata": {
    "colab": {
      "provenance": [],
      "authorship_tag": "ABX9TyPDpWD2goMtr9zaz+VTkvzs",
      "include_colab_link": true
    },
    "kernelspec": {
      "name": "python3",
      "display_name": "Python 3"
    },
    "language_info": {
      "name": "python"
    }
  },
  "cells": [
    {
      "cell_type": "markdown",
      "metadata": {
        "id": "view-in-github",
        "colab_type": "text"
      },
      "source": [
        "<a href=\"https://colab.research.google.com/github/mafaldasalomao/DCGAN_MNIST_TENSORFLOW/blob/main/cGAN_pretrained.ipynb\" target=\"_parent\"><img src=\"https://colab.research.google.com/assets/colab-badge.svg\" alt=\"Open In Colab\"/></a>"
      ]
    },
    {
      "cell_type": "code",
      "execution_count": null,
      "metadata": {
        "id": "nBSRrHN7n9Uf"
      },
      "outputs": [],
      "source": [
        "import cv2 # opencv\n",
        "import os\n",
        "from matplotlib import pyplot as plt\n",
        "from google.colab.patches import cv2_imshow"
      ]
    },
    {
      "cell_type": "code",
      "source": [
        "!git clone https://github.com/junyanz/pytorch-CycleGAN-and-pix2pix"
      ],
      "metadata": {
        "id": "qeKgrZ8ooGIa"
      },
      "execution_count": null,
      "outputs": []
    },
    {
      "cell_type": "code",
      "source": [
        "%cd pytorch-CycleGAN-and-pix2pix/"
      ],
      "metadata": {
        "id": "-1v92ybioKLh"
      },
      "execution_count": null,
      "outputs": []
    },
    {
      "cell_type": "code",
      "source": [
        "!pip install -r requirements.txt"
      ],
      "metadata": {
        "id": "VfcU7uRjoMQE"
      },
      "execution_count": null,
      "outputs": []
    },
    {
      "cell_type": "markdown",
      "source": [
        "## Baixar e carregar o modelo pré-treinado\n",
        "\n",
        "Você poderia também baixar os modelos pré-treinados aqui: https://github.com/affinelayer/pix2pix-tensorflow#datasets-and-trained-models"
      ],
      "metadata": {
        "id": "nUihQBbdoQ7k"
      }
    },
    {
      "cell_type": "markdown",
      "source": [
        "> Link com os modelos: http://efrosgans.eecs.berkeley.edu/pix2pix/models-pytorch/\n",
        "\n",
        "Modelos disponíveis: `edges2shoes` (desenhos->sapatos), `sat2map` (satélite->mapa), `map2sat` (mapa->satélite), `facades_label2photo` (label de fachadas ->fotos de fachadas), `day2night` (dia->noite) e `edges2handbags` (desenhos->bolsas)"
      ],
      "metadata": {
        "id": "x79X2aLdoSAy"
      }
    },
    {
      "cell_type": "code",
      "source": [
        "nome_modelo = 'facades_label2photo'"
      ],
      "metadata": {
        "id": "SOmnbWazocOz"
      },
      "execution_count": null,
      "outputs": []
    },
    {
      "cell_type": "code",
      "source": [
        "diretorio_modelo = \"./checkpoints/{}_pretreinado\".format(nome_modelo)\n"
      ],
      "metadata": {
        "id": "a1MzP3C3o1uE"
      },
      "execution_count": null,
      "outputs": []
    },
    {
      "cell_type": "code",
      "source": [
        "!mkdir -p {diretorio_modelo}"
      ],
      "metadata": {
        "id": "4KMOBaEqpBhq"
      },
      "execution_count": null,
      "outputs": []
    },
    {
      "cell_type": "code",
      "source": [
        "url_modelo = 'http://efrosgans.eecs.berkeley.edu/pix2pix/models-pytorch/{}.pth'.format(nome_modelo)\n",
        "url_modelo"
      ],
      "metadata": {
        "id": "uhe87XgqpGt1"
      },
      "execution_count": null,
      "outputs": []
    },
    {
      "cell_type": "code",
      "source": [
        "!wget -N {url_modelo}"
      ],
      "metadata": {
        "id": "kNNDiW2XpLJo"
      },
      "execution_count": null,
      "outputs": []
    },
    {
      "cell_type": "code",
      "source": [
        "!mv {nome_modelo}.pth {diretorio_modelo}latest_net_G.pth"
      ],
      "metadata": {
        "id": "BZj1c5QtpM_g"
      },
      "execution_count": null,
      "outputs": []
    },
    {
      "cell_type": "markdown",
      "source": [
        "## Download do dataset\n",
        "\n",
        "Podemos baixar os datasets a partir do link: http://efrosgans.eecs.berkeley.edu/pix2pix/datasets/\n",
        "\n",
        "Lembrando que temos as seguintes opções:\n",
        "* `cityscapes`, `night2day`, `edges2handbags`, `edges2shoes`, `facades`, `maps`"
      ],
      "metadata": {
        "id": "gg61ZKG8pRfe"
      }
    },
    {
      "cell_type": "code",
      "source": [
        "dataset = 'facades'\n",
        "arquivo_dataset = \"{}.tar.gz\".format(dataset)\n",
        "url_dataset = \"http://efrosgans.eecs.berkeley.edu/pix2pix/datasets/{}\".format(arquivo_dataset)\n",
        "url_dataset"
      ],
      "metadata": {
        "id": "RDe9CH28pR9i"
      },
      "execution_count": null,
      "outputs": []
    },
    {
      "cell_type": "code",
      "source": [
        "!wget -N {url_dataset}"
      ],
      "metadata": {
        "id": "3ozZZxYHpVCC"
      },
      "execution_count": null,
      "outputs": []
    },
    {
      "cell_type": "code",
      "source": [
        "# https://man7.org/linux/man-pages/man1/tar.1.html\n",
        "!tar -zxvf {arquivo_dataset} -C ./datasets/"
      ],
      "metadata": {
        "id": "nTgPjelNpWtw"
      },
      "execution_count": null,
      "outputs": []
    },
    {
      "cell_type": "code",
      "source": [
        "## Testando o modelo\n",
        "\n",
        "- O algoritmo vai salvar 3 imagens para cada uma das amostras de teste: \n",
        "* `*_real_A` - a imagem de entrada, (antes da tradução) \n",
        "* `*_real_B` - a imagem \"real\" (modelo de referência)\n",
        "* `*_fake_B` - a imagem de saída (a gerada pela GAN)"
      ],
      "metadata": {
        "id": "tfLFHaixpbDZ"
      },
      "execution_count": null,
      "outputs": []
    },
    {
      "cell_type": "code",
      "source": [
        "dataset, nome_modelo"
      ],
      "metadata": {
        "id": "33Jht8xvpYoE"
      },
      "execution_count": null,
      "outputs": []
    },
    {
      "cell_type": "code",
      "source": [
        "!python test.py --dataroot ./datasets/{dataset} --direction BtoA --model pix2pix --name {nome_modelo}_pretreinado"
      ],
      "metadata": {
        "id": "r5hwzfOSpdF4"
      },
      "execution_count": null,
      "outputs": []
    },
    {
      "cell_type": "code",
      "source": [
        "diretorio_resultados = \"./results/{}_pretreinado/test_latest/images/\".format(nome_modelo)"
      ],
      "metadata": {
        "id": "ZS63Jvspphky"
      },
      "execution_count": null,
      "outputs": []
    },
    {
      "cell_type": "code",
      "source": [
        "img_resultado = cv2.imread(diretorio_resultados + \"100_fake_B.png\")\n",
        "cv2_imshow(img_resultado)"
      ],
      "metadata": {
        "id": "jbCFElMYpjI0"
      },
      "execution_count": null,
      "outputs": []
    },
    {
      "cell_type": "code",
      "source": [
        "img_resultado = cv2.imread(diretorio_resultados + \"100_real_A.png\")\n",
        "cv2_imshow(img_resultado)"
      ],
      "metadata": {
        "id": "lO-k2dAmpkwg"
      },
      "execution_count": null,
      "outputs": []
    },
    {
      "cell_type": "code",
      "source": [
        "img_resultado = cv2.imread(diretorio_resultados + \"100_real_B.png\")\n",
        "cv2_imshow(img_resultado)"
      ],
      "metadata": {
        "id": "5msfb0mNpmzn"
      },
      "execution_count": null,
      "outputs": []
    },
    {
      "cell_type": "markdown",
      "source": [
        "# Desenho para Foto\n"
      ],
      "metadata": {
        "id": "CEUNkqMOppgF"
      }
    },
    {
      "cell_type": "code",
      "source": [
        "nome_modelo = 'edges2shoes'\n",
        "diretorio_modelo = \"./checkpoints/{}_pretreinado/\".format(nome_modelo)\n",
        "!mkdir -p {diretorio_modelo}"
      ],
      "metadata": {
        "id": "q7pkPBEcpp4a"
      },
      "execution_count": null,
      "outputs": []
    },
    {
      "cell_type": "code",
      "source": [
        "url_modelo = 'http://efrosgans.eecs.berkeley.edu/pix2pix/models-pytorch/{}.pth'.format(nome_modelo)\n",
        "!wget -N {url_modelo}"
      ],
      "metadata": {
        "id": "HZ0dlwohpsHL"
      },
      "execution_count": null,
      "outputs": []
    },
    {
      "cell_type": "code",
      "source": [
        "!mv {nome_modelo}.pth {diretorio_modelo}latest_net_G.pth"
      ],
      "metadata": {
        "id": "qMi8go3lptZd"
      },
      "execution_count": null,
      "outputs": []
    },
    {
      "cell_type": "code",
      "source": [
        "!mkdir -p imagens/test/"
      ],
      "metadata": {
        "id": "zms7s61OpuxQ"
      },
      "execution_count": null,
      "outputs": []
    },
    {
      "cell_type": "markdown",
      "source": [
        "## Geração dos resultados"
      ],
      "metadata": {
        "id": "_j5IEGHFpz8y"
      }
    },
    {
      "cell_type": "markdown",
      "source": [
        "Parâmetros: \n",
        "\n",
        "* ` --dataset_mode single` - define o modo como `single` o que significa que serão imagens únicas\n",
        "\n",
        "* `--model test` - antes o valor de `--model` era pix2pix (pois seu algoritmo é preparado para trabalhar com os datasets pareados) mas agora como estamos lidando com imagem única vamos deixar como `test`, que ainda assim irá ser Pix2Pix mas agora estamos dizendo que não queremos que ele faça o processo que fez quando era imagem em par. \n",
        "\n",
        "* `--netG unet_256` - especifica a rede do gerador. Antes não precisávamos dizer, mas agora que fizemos tal ajuste a gente precisa dessa alteração para indicar explicitamente que vamos usar essa arquitetura padrão.\n",
        "\n",
        "* `--norm batch` - o mesmo caso do acima, precisamos agora passar esse parâmetro mesmo já sendo o valor \"padrão\". \n",
        "\n",
        "* Obs: e repare que o parâmetro `--direction` não foi usado também, pois não precisa invertar a direção (na verdade, nesse caso não tem direção nenhuma pois definimos que é uma imagem única, diferente do outro exemplo que foi executado em um dataset pareado)   "
      ],
      "metadata": {
        "id": "0lyG1hKOpzVu"
      }
    },
    {
      "cell_type": "code",
      "source": [
        "!python test.py --dataroot ./imagens --name {nome_modelo}_pretreinado --model test --dataset_mode single --netG unet_256 --norm batch"
      ],
      "metadata": {
        "id": "cv3YmcuGpwTb"
      },
      "execution_count": null,
      "outputs": []
    },
    {
      "cell_type": "code",
      "source": [
        "diretorio_resultados = \"./results/{}_pretreinado/test_latest/images/\".format(nome_modelo)"
      ],
      "metadata": {
        "id": "wWajcQFrp30c"
      },
      "execution_count": null,
      "outputs": []
    },
    {
      "cell_type": "code",
      "source": [
        "def exibir_resultados(nome_img, diretorio):\n",
        "  img_entrada = cv2.imread(diretorio + nome_img + \"_real.png\")\n",
        "  img_resultado = cv2.imread(diretorio + nome_img + \"_fake.png\")\n",
        "  imgs = [img_entrada, img_resultado]\n",
        "  titulo = ['Desenho (entrada)', 'Foto (saída)']\n",
        "  for i in range(len(imgs)):\n",
        "    plt.subplot(1,2, i + 1)\n",
        "    plt.title(titulo[i])\n",
        "    plt.axis('off')\n",
        "    plt.imshow(cv2.cvtColor(imgs[i], cv2.COLOR_BGR2RGB))\n",
        "  plt.show()"
      ],
      "metadata": {
        "id": "eLaTFpLcp53g"
      },
      "execution_count": null,
      "outputs": []
    },
    {
      "cell_type": "code",
      "source": [
        "img = 'desenho_sapato01'\n",
        "exibir_resultados(img, diretorio_resultados)"
      ],
      "metadata": {
        "id": "YKHJ8xPJp-Dk"
      },
      "execution_count": null,
      "outputs": []
    },
    {
      "cell_type": "code",
      "source": [
        "dir_imgs = 'imagens/test'\n",
        "lista_imgs = [os.path.splitext(f)[0] for f in os.listdir(dir_imgs) if f.endswith(\".jpg\")]\n",
        "lista_imgs"
      ],
      "metadata": {
        "id": "CV__reh0p_0U"
      },
      "execution_count": null,
      "outputs": []
    },
    {
      "cell_type": "code",
      "source": [
        "for img in lista_imgs:\n",
        "  print('\\nResultado para a imagem {}'.format(img))\n",
        "  exibir_resultados(img, diretorio_resultados)"
      ],
      "metadata": {
        "id": "r7xw7X-TqBP1"
      },
      "execution_count": null,
      "outputs": []
    },
    {
      "cell_type": "markdown",
      "source": [
        "# Dia para Noite"
      ],
      "metadata": {
        "id": "xkq1j2WjqGNl"
      }
    },
    {
      "cell_type": "code",
      "source": [
        "nome_modelo = 'day2night'\n",
        "diretorio_modelo = \"./checkpoints/{}_pretreinado/\".format(nome_modelo)\n",
        "!mkdir -p {diretorio_modelo}"
      ],
      "metadata": {
        "id": "ojDIt6rXqDAi"
      },
      "execution_count": null,
      "outputs": []
    },
    {
      "cell_type": "code",
      "source": [
        "url_modelo = \"http://efrosgans.eecs.berkeley.edu/pix2pix/models-pytorch/{}.pth\".format(nome_modelo)\n",
        "!wget -N {url_modelo}"
      ],
      "metadata": {
        "id": "yUdWnqi0qI02"
      },
      "execution_count": null,
      "outputs": []
    },
    {
      "cell_type": "code",
      "source": [
        "!mv {nome_modelo}.pth {diretorio_modelo}latest_net_G.pth"
      ],
      "metadata": {
        "id": "kuRmmBDwqKVp"
      },
      "execution_count": null,
      "outputs": []
    },
    {
      "cell_type": "code",
      "source": [
        "#Geração dos resultados\n",
        "\n",
        "!python test.py --dataroot /content/teste --name {nome_modelo}_pretreinado --model test --dataset_mode single --netG unet_256 --norm batch"
      ],
      "metadata": {
        "id": "J9sUuCASqMIt"
      },
      "execution_count": null,
      "outputs": []
    },
    {
      "cell_type": "code",
      "source": [],
      "metadata": {
        "id": "31lUKv_HqQsT"
      },
      "execution_count": null,
      "outputs": []
    }
  ]
}